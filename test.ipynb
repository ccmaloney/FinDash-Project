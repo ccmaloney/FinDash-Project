{
 "cells": [
  {
   "cell_type": "code",
   "execution_count": 1,
   "metadata": {},
   "outputs": [],
   "source": [
    "import streamlit as st\n",
    "from PIL import Image\n",
    "import requests\n",
    "import pandas as pd\n",
    "import seaborn as sns\n",
    "import matplotlib.pyplot as plt\n",
    "import itertools"
   ]
  },
  {
   "cell_type": "code",
   "execution_count": 2,
   "metadata": {},
   "outputs": [],
   "source": [
    "def get_top_coins_by_volume(limit=20, days=5):\n",
    "    # CoinGecko API endpoint for coins/markets\n",
    "    api_endpoint = \"https://api.coingecko.com/api/v3/coins/markets\"\n",
    "    historical_data_endpoint = \"https://api.coingecko.com/api/v3/coins/{coin_id}/market_chart\"\n",
    "\n",
    "    # Parameters for the API request\n",
    "    params = {\n",
    "        'vs_currency': 'usd',\n",
    "        'order': 'volume_desc',  # Sort by volume in descending order\n",
    "        'per_page': limit,\n",
    "        'page': 1,  # Adjust the page number if you want more than 20 coins\n",
    "    }\n",
    "\n",
    "    try:\n",
    "        # Make the API request\n",
    "        response = requests.get(api_endpoint, params=params)\n",
    "        if response.status_code == 200:\n",
    "            print(\"STATUS 200 == [Response Sucessful]\")\n",
    "        else:\n",
    "            print(\"STATUS ERROR == [Response Failed]\")\n",
    "        data = response.json()\n",
    "\n",
    "\n",
    "        coin_info = []\n",
    "        for coin_data in data:\n",
    "            coin_id = coin_data['id']\n",
    "            coin_name = coin_data['name']\n",
    "            coin_symbol = coin_data['symbol']\n",
    "\n",
    "            # Get historical price data\n",
    "            historical_params = {\n",
    "                'vs_currency': 'usd',\n",
    "                'days': days,\n",
    "            }\n",
    "            historical_response = requests.get(historical_data_endpoint.format(coin_id=coin_id), params=historical_params)\n",
    "            historical_data = historical_response.json()\n",
    "            \n",
    "            # Check if 'prices' key exists in the response\n",
    "            if 'prices' in historical_data:\n",
    "                prices = historical_data['prices']\n",
    "                coin_info.append({\n",
    "                    'Name': coin_name,\n",
    "                    'Symbol': coin_symbol,\n",
    "                    'Prices': prices\n",
    "                })\n",
    "\n",
    "        df = pd.DataFrame(coin_info)\n",
    "        return df\n",
    "\n",
    "    except Exception as e:\n",
    "        print(f'Error: {e}')\n",
    "\n",
    "# Rest of your code remains the same...\n"
   ]
  },
  {
   "cell_type": "code",
   "execution_count": 3,
   "metadata": {},
   "outputs": [
    {
     "name": "stdout",
     "output_type": "stream",
     "text": [
      "STATUS 200 == [Response Sucessful]\n",
      "aave-eth-v1\n",
      "Aave ETH v1\n",
      "aeth\n",
      "tether\n",
      "Tether\n",
      "usdt\n",
      "ethereum\n",
      "Ethereum\n",
      "eth\n",
      "bitcoin\n",
      "Bitcoin\n",
      "btc\n",
      "usd-coin\n",
      "USDC\n",
      "usdc\n",
      "binance-usd\n",
      "BUSD\n",
      "busd\n",
      "aave-usdc-v1\n",
      "Aave USDC v1\n",
      "ausdc\n",
      "terrausd\n",
      "TerraClassicUSD\n",
      "ustc\n",
      "aave-link-v1\n",
      "Aave LINK v1\n",
      "alink\n",
      "solana\n",
      "Solana\n",
      "sol\n",
      "gala\n",
      "GALA\n",
      "gala\n",
      "weth\n",
      "WETH\n",
      "weth\n",
      "ripple\n",
      "XRP\n",
      "xrp\n",
      "dogecoin\n",
      "Dogecoin\n",
      "doge\n",
      "binancecoin\n",
      "BNB\n",
      "bnb\n",
      "aave-tusd-v1\n",
      "Aave TUSD v1\n",
      "atusd\n",
      "chainlink\n",
      "Chainlink\n",
      "link\n",
      "immutable-x\n",
      "Immutable\n",
      "imx\n",
      "terra-luna\n",
      "Terra Luna Classic\n",
      "lunc\n",
      "thorchain\n",
      "THORChain\n",
      "rune\n"
     ]
    }
   ],
   "source": [
    "data = get_top_coins_by_volume()\n"
   ]
  },
  {
   "cell_type": "code",
   "execution_count": 11,
   "metadata": {},
   "outputs": [
    {
     "name": "stdout",
     "output_type": "stream",
     "text": [
      "{'status': {'timestamp': '2023-11-28T15:34:09.664Z', 'error_code': 0, 'error_message': None, 'elapsed': 1, 'credit_count': 1, 'notice': None}, 'data': [{'id': 6476, 'name': 'phk6wghmlrq', 'symbol': 'orm27z266ui', 'slug': '8gaz207ympc', 'cmc_rank': 532, 'num_market_pairs': 124, 'circulating_supply': 5296, 'total_supply': 9166, 'max_supply': 6667, 'infinite_supply': None, 'last_updated': '2023-11-28T15:34:09.663Z', 'date_added': '2023-11-28T15:34:09.663Z', 'tags': ['jz2puquyjd', 'ayjt7h47ess', '2j3yqq6jzgo', 'l0im6h8mt7g', 'kqvuylj2gfa', 'smsoaze8an', 'ypfz30ukdl', 'ee5nocaqpie', 'ipl7tkrr4kd', '3wd0rjnatw3'], 'platform': None, 'self_reported_circulating_supply': None, 'self_reported_market_cap': None, 'quote': {'USD': {'price': 0.1265154773515602, 'volume_24h': 2006, 'volume_change_24h': 0.10600924868585726, 'percent_change_1h': 0.6051320669290685, 'percent_change_24h': 0.6735372755905751, 'percent_change_7d': 0.7487972421589095, 'market_cap': 0.2680722608585331, 'market_cap_dominance': 221, 'fully_diluted_market_cap': 0.057965435010398636, 'last_updated': '2023-11-28T15:34:09.663Z'}}}, {'id': 1847, 'name': 'x51m0cob2o', 'symbol': 'firkwbdj84w', 'slug': 'sypp7y4nm8', 'cmc_rank': 1524, 'num_market_pairs': 8189, 'circulating_supply': 3242, 'total_supply': 7609, 'max_supply': 5391, 'infinite_supply': None, 'last_updated': '2023-11-28T15:34:09.663Z', 'date_added': '2023-11-28T15:34:09.663Z', 'tags': ['j9wzva8k1xm', 'q3i5g1m5bi', '6oicdtin1so', '4x9c8vnbf8m', 'xwgw6xrjd9m', '4kjtx1z95c4', 'ps53rrv7ksi', 'vzl6stybv3', 'ibvxjjv2w7', 'g0k9zpmhk9'], 'platform': None, 'self_reported_circulating_supply': None, 'self_reported_market_cap': None, 'quote': {'USD': {'price': 0.8888084963874434, 'volume_24h': 938, 'volume_change_24h': 0.7175231334499472, 'percent_change_1h': 0.8375470013208606, 'percent_change_24h': 0.2646173399319094, 'percent_change_7d': 0.34327063067089925, 'market_cap': 0.3265830612646954, 'market_cap_dominance': 6448, 'fully_diluted_market_cap': 0.28272125076428134, 'last_updated': '2023-11-28T15:34:09.663Z'}}}, {'id': 3757, 'name': '29qqo5vb4aw', 'symbol': 'z389lth26qd', 'slug': 'hmnf7be96y5', 'cmc_rank': 1563, 'num_market_pairs': 1993, 'circulating_supply': 5395, 'total_supply': 4857, 'max_supply': 8375, 'infinite_supply': None, 'last_updated': '2023-11-28T15:34:09.663Z', 'date_added': '2023-11-28T15:34:09.663Z', 'tags': ['wbgrxm2bp2b', 'f9w3v7immpf', 'ofwtmc6h6w', 'f9r2q2bsdyj', 'mlx0svqwdha', '9hch2fubhc6', 'sbikosrhgv', 'lnfcq45u1ae', 'rpe9ft5ijim', 'c46q7108jpa'], 'platform': None, 'self_reported_circulating_supply': None, 'self_reported_market_cap': None, 'quote': {'USD': {'price': 0.6675750286291218, 'volume_24h': 4019, 'volume_change_24h': 0.8939267587254209, 'percent_change_1h': 0.5037978900393814, 'percent_change_24h': 0.7237099373923224, 'percent_change_7d': 0.6419909737505576, 'market_cap': 0.9101545763613039, 'market_cap_dominance': 2574, 'fully_diluted_market_cap': 0.9228735293128087, 'last_updated': '2023-11-28T15:34:09.663Z'}}}, {'id': 6502, 'name': 'wtpc6ythpl', 'symbol': 'mop9drc4e79', 'slug': 'cjqhq84lfuc', 'cmc_rank': 2790, 'num_market_pairs': 7089, 'circulating_supply': 6695, 'total_supply': 3638, 'max_supply': 4540, 'infinite_supply': None, 'last_updated': '2023-11-28T15:34:09.663Z', 'date_added': '2023-11-28T15:34:09.663Z', 'tags': ['t3eutaupsj', 'dzd8k1uwjdr', '9js43mdtvbn', 'dvng07xta4p', 'm3dlkn1vvob', '5jw7k7aq5zf', 'utm9mxi3qtr', 'svsl4uy2goe', 'bnfpcsmbrjs', '5hn2fw3c4rm'], 'platform': None, 'self_reported_circulating_supply': None, 'self_reported_market_cap': None, 'quote': {'USD': {'price': 0.06109469870644024, 'volume_24h': 1541, 'volume_change_24h': 0.42110136291583444, 'percent_change_1h': 0.41696395264959984, 'percent_change_24h': 0.23175468768599283, 'percent_change_7d': 0.39875092729700623, 'market_cap': 0.729998934842736, 'market_cap_dominance': 278, 'fully_diluted_market_cap': 0.15582461381185686, 'last_updated': '2023-11-28T15:34:09.663Z'}}}, {'id': 4618, 'name': '1joec5pk7ef', 'symbol': 'rdmcuxbvbut', 'slug': 'lmf9ialkzo8', 'cmc_rank': 4256, 'num_market_pairs': 7012, 'circulating_supply': 5772, 'total_supply': 1520, 'max_supply': 6108, 'infinite_supply': None, 'last_updated': '2023-11-28T15:34:09.663Z', 'date_added': '2023-11-28T15:34:09.663Z', 'tags': ['zjyj09udoud', 'uxrfrjjn1x', '0qn7krg26zeb', 'qh8lgdu4tip', '8gay43mow8d', 'jeiu9bmoypn', 'y45khfugzfp', 'zrh7nb0p8f', 'qqbw06qggw', '4dvc8kzbshi'], 'platform': None, 'self_reported_circulating_supply': None, 'self_reported_market_cap': None, 'quote': {'USD': {'price': 0.7900649809631202, 'volume_24h': 5715, 'volume_change_24h': 0.2501222891705386, 'percent_change_1h': 0.8716772806091742, 'percent_change_24h': 0.015269590903295605, 'percent_change_7d': 0.21339963862509514, 'market_cap': 0.96181437533326, 'market_cap_dominance': 4906, 'fully_diluted_market_cap': 0.6364652110510702, 'last_updated': '2023-11-28T15:34:09.663Z'}}}, {'id': 4461, 'name': 'a58bss4fjz7', 'symbol': 'vdqsk3m3j4b', 'slug': 'i7uj37r51o8', 'cmc_rank': 2735, 'num_market_pairs': 6471, 'circulating_supply': 9693, 'total_supply': 4883, 'max_supply': 6637, 'infinite_supply': None, 'last_updated': '2023-11-28T15:34:09.663Z', 'date_added': '2023-11-28T15:34:09.663Z', 'tags': ['o7gv57e38g', 'yh7zpu2cg5', 'xtf7vgerhan', '1vrcgaiflat', 'omdr43ltjyo', 's3uibpzs7wb', '83rm5blzoaw', 'aduwf7zwhvr', '6cl9lz8q28g', 'lsmnih8wh6j'], 'platform': None, 'self_reported_circulating_supply': None, 'self_reported_market_cap': None, 'quote': {'USD': {'price': 0.05022081500153752, 'volume_24h': 5994, 'volume_change_24h': 0.6767525936393064, 'percent_change_1h': 0.8218861697983588, 'percent_change_24h': 0.892970038463496, 'percent_change_7d': 0.9455623351655773, 'market_cap': 0.35498539191332656, 'market_cap_dominance': 4715, 'fully_diluted_market_cap': 0.7130616404417163, 'last_updated': '2023-11-28T15:34:09.664Z'}}}, {'id': 6543, 'name': 'xm667hm20r9', 'symbol': 'ae0ppsm4xvm', 'slug': 'xg6tgfqybop', 'cmc_rank': 8031, 'num_market_pairs': 4549, 'circulating_supply': 6968, 'total_supply': 4928, 'max_supply': 4627, 'infinite_supply': None, 'last_updated': '2023-11-28T15:34:09.664Z', 'date_added': '2023-11-28T15:34:09.664Z', 'tags': ['qs410fll0n', 'ddsdd0eomqr', 'kdgn0eqwbo', 'jdd2erbvhr', 'eqnq62c7luc', 'c514riqfocb', 'peddgy0lbfs', 'thybxe9qczb', 'rc2rzfh0ve', 'igw9lzwqjj'], 'platform': None, 'self_reported_circulating_supply': None, 'self_reported_market_cap': None, 'quote': {'USD': {'price': 0.6604920967235921, 'volume_24h': 8853, 'volume_change_24h': 0.3766011203904065, 'percent_change_1h': 0.12369711576257725, 'percent_change_24h': 0.01883357533377583, 'percent_change_7d': 0.9684362321053872, 'market_cap': 0.41308481736403535, 'market_cap_dominance': 1819, 'fully_diluted_market_cap': 0.08936671251820916, 'last_updated': '2023-11-28T15:34:09.664Z'}}}, {'id': 1907, 'name': 'k6wwy4mq63g', 'symbol': 'myzdg1shyrf', 'slug': 'uezurzycl7m', 'cmc_rank': 7462, 'num_market_pairs': 8684, 'circulating_supply': 521, 'total_supply': 8411, 'max_supply': 9261, 'infinite_supply': None, 'last_updated': '2023-11-28T15:34:09.664Z', 'date_added': '2023-11-28T15:34:09.664Z', 'tags': ['8hjc7tg4a7y', 'az7e7gu6bqv', 'xi7jvfe4guo', 'n0pgqxki9zk', '00etv2fpw3kn8', '5mw5vtyzrg8', 'jkj2cwhk5jq', 'mj0y3oxfrl', '71vyqgfdrxo', 'lep45piv7c'], 'platform': None, 'self_reported_circulating_supply': None, 'self_reported_market_cap': None, 'quote': {'USD': {'price': 0.4566818321823738, 'volume_24h': 6147, 'volume_change_24h': 0.19843600480059864, 'percent_change_1h': 0.2989806994356976, 'percent_change_24h': 0.6590858506909492, 'percent_change_7d': 0.7117805862928106, 'market_cap': 0.2962356011131446, 'market_cap_dominance': 5009, 'fully_diluted_market_cap': 0.6491072688970501, 'last_updated': '2023-11-28T15:34:09.664Z'}}}, {'id': 3480, 'name': '588rb1fhntd', 'symbol': '4b88dnfkfll', 'slug': 'obx59xfwifs', 'cmc_rank': 1960, 'num_market_pairs': 7334, 'circulating_supply': 5564, 'total_supply': 7792, 'max_supply': 8300, 'infinite_supply': None, 'last_updated': '2023-11-28T15:34:09.664Z', 'date_added': '2023-11-28T15:34:09.664Z', 'tags': ['l17xk023cbr', '2sh2j33x2p9', 'ktnm7hdge6', 'nqr9nreyrji', 'g8en3tl27dp', 'st8ersj7ak', '17u10lo5c3nh', 'm4on7f1s6vh', '775wiiukp0j', 'f8ajk6tok8'], 'platform': None, 'self_reported_circulating_supply': None, 'self_reported_market_cap': None, 'quote': {'USD': {'price': 0.3646949539614499, 'volume_24h': 2277, 'volume_change_24h': 0.6623968847702602, 'percent_change_1h': 0.511214025795087, 'percent_change_24h': 0.9530266340400682, 'percent_change_7d': 0.2545197233838319, 'market_cap': 0.9521295136930956, 'market_cap_dominance': 2677, 'fully_diluted_market_cap': 0.4475259509245817, 'last_updated': '2023-11-28T15:34:09.664Z'}}}, {'id': 3170, 'name': '9vx9taa1zu8', 'symbol': 'kzwqu3s0lpd', 'slug': 'cnntre8yzej', 'cmc_rank': 8589, 'num_market_pairs': 7703, 'circulating_supply': 9906, 'total_supply': 180, 'max_supply': 7960, 'infinite_supply': None, 'last_updated': '2023-11-28T15:34:09.664Z', 'date_added': '2023-11-28T15:34:09.664Z', 'tags': ['rm5bs6q2cw', '8bsiuth2a5', 'gcroxgisjul', 'h4qxylymaa9', 'geqrln83io4', '3rp0d82khzd', 'ddsxi5y9plc', '8y0weps3dy', 'nwawhidceoq', 'sahsmwzocek'], 'platform': None, 'self_reported_circulating_supply': None, 'self_reported_market_cap': None, 'quote': {'USD': {'price': 0.2189530547727101, 'volume_24h': 8397, 'volume_change_24h': 0.5006465236053217, 'percent_change_1h': 0.9504580076371849, 'percent_change_24h': 0.042706903807860463, 'percent_change_7d': 0.7083918214315756, 'market_cap': 0.8441706186498785, 'market_cap_dominance': 4228, 'fully_diluted_market_cap': 0.4213446229646072, 'last_updated': '2023-11-28T15:34:09.664Z'}}}]}\n"
     ]
    }
   ],
   "source": [
    "from requests import Request, Session\n",
    "from requests.exceptions import ConnectionError, Timeout, TooManyRedirects\n",
    "import json\n",
    "api_key = 'cfc334e3-6b99-4891-8d48-aec7f23253f9'\n",
    "url = 'https://sandbox-api.coinmarketcap.com/v1/cryptocurrency/listings/latest'\n",
    "parameters = {\n",
    "  'start':'1',\n",
    "  'limit':'5000',\n",
    "  'convert':'USD'\n",
    "}\n",
    "headers = {\n",
    "  'Accepts': 'application/json',\n",
    "  'X-CMC_PRO_API_KEY': f'{api_key}',\n",
    "}\n",
    "\n",
    "session = Session()\n",
    "session.headers.update(headers)\n",
    "\n",
    "try:\n",
    "  response = session.get(url, params=parameters)\n",
    "  data = json.loads(response.text)\n",
    "  print(data)\n",
    "except (ConnectionError, Timeout, TooManyRedirects) as e:\n",
    "  print(e)\n",
    "  "
   ]
  },
  {
   "cell_type": "code",
   "execution_count": 4,
   "metadata": {},
   "outputs": [],
   "source": [
    "df = data\n",
    "\n",
    "for row in df.iterrows():\n",
    "    row[1]['Prices'] = [x[1] for x in row[1][\"Prices\"]]\n",
    "    x = row[1]['Prices']\n",
    "    \n"
   ]
  },
  {
   "cell_type": "code",
   "execution_count": 5,
   "metadata": {},
   "outputs": [
    {
     "name": "stdout",
     "output_type": "stream",
     "text": [
      "121\n",
      "121\n",
      "121\n",
      "121\n",
      "121\n",
      "121\n",
      "121\n",
      "121\n",
      "121\n"
     ]
    }
   ],
   "source": [
    "\n",
    "for row in df.iterrows():\n",
    "    x = row[1][\"Prices\"]\n",
    "    print(len(x))"
   ]
  },
  {
   "cell_type": "code",
   "execution_count": 34,
   "metadata": {},
   "outputs": [],
   "source": [
    "def get_comminuty_trending_tokens():\n",
    "    api_key = 'cfc334e3-6b99-4891-8d48-aec7f23253f9'\n",
    "    cmc_url = 'https://sandbox-api.coinmarketcap.com/'\n",
    "    url_suffix = 'v1/community/trending/token'\n",
    "    url = cmc_url + url_suffix\n",
    "\n",
    "    parameters = {\n",
    "        'limit':'5',\n",
    "    }\n",
    "    headers = {\n",
    "        'Accepts': 'application/json',\n",
    "        'X-CMC_PRO_API_KEY': f'{api_key}',\n",
    "    }\n",
    "\n",
    "    session = Session()\n",
    "    session.headers.update(headers)\n",
    "\n",
    "    try:\n",
    "        response = session.get(url, params=parameters)\n",
    "        data = json.loads(response.text)\n",
    "        print(data)\n",
    "        return data\n",
    "    except (ConnectionError, Timeout, TooManyRedirects) as e:\n",
    "        print(e)\n"
   ]
  },
  {
   "cell_type": "code",
   "execution_count": 35,
   "metadata": {},
   "outputs": [
    {
     "name": "stdout",
     "output_type": "stream",
     "text": [
      "{'status': {'timestamp': '2023-11-28T15:56:56.980Z', 'error_code': 0, 'error_message': None, 'elapsed': 1, 'credit_count': 0, 'notice': None}, 'data': [{'id': 9462, 'name': 'h00e63lpi7a', 'symbol': '4qtftmp6g02', 'slug': '8k9oonw6z2q', 'cmc_rank': 2193, 'rank': 3510}, {'id': 6458, 'name': '2zdabrtsrdb', 'symbol': '077jod6tstfs', 'slug': '2xfz4p8uqs1', 'cmc_rank': 4298, 'rank': 5523}, {'id': 8987, 'name': '4x0k07ocsu7', 'symbol': '8o3c6tniydn', 'slug': 'irxi5bu3j8', 'cmc_rank': 2121, 'rank': 1961}, {'id': 333, 'name': '8632o8t5wlc', 'symbol': 'rcxkowaz16i', 'slug': '978jxae4kkh', 'cmc_rank': 6881, 'rank': 3665}, {'id': 6092, 'name': 'm1zb9746g7f', 'symbol': 'm6fuf8q4xrl', 'slug': 'ktzv3gmr9xg', 'cmc_rank': 2574, 'rank': 2773}, {'id': 3972, 'name': 'gi64s6ngbiu', 'symbol': 'z1263z1ai1', 'slug': 'eoe0c85xhoc', 'cmc_rank': 3388, 'rank': 8169}, {'id': 5474, 'name': 'c4xsalh5m6h', 'symbol': 'a5a5997z6lg', 'slug': 'p4umkx2dvi', 'cmc_rank': 1860, 'rank': 4005}, {'id': 6530, 'name': '3cpqf43knhu', 'symbol': 'yqroc96gwr', 'slug': 'z6ogd1dmr8', 'cmc_rank': 1728, 'rank': 6556}, {'id': 5501, 'name': '3kgw0y8hlas', 'symbol': 'osdxnnp8bqn', 'slug': 'a9x33gv5nag', 'cmc_rank': 7145, 'rank': 283}, {'id': 1066, 'name': '13qubh9mce8g', 'symbol': 'irgauk30dv', 'slug': 'ou7giz8cmyg', 'cmc_rank': 5128, 'rank': 7677}]}\n"
     ]
    }
   ],
   "source": [
    "response = get_comminuty_trending_tokens()\n"
   ]
  },
  {
   "cell_type": "code",
   "execution_count": 44,
   "metadata": {},
   "outputs": [],
   "source": [
    "error_code = response['status']['error_code']\n",
    "if er_code != 0:\n",
    "    print(\"Error:\" + str(response['status']['error_code']))"
   ]
  },
  {
   "cell_type": "markdown",
   "metadata": {},
   "source": []
  },
  {
   "cell_type": "code",
   "execution_count": null,
   "metadata": {},
   "outputs": [],
   "source": []
  },
  {
   "cell_type": "code",
   "execution_count": 24,
   "metadata": {},
   "outputs": [
    {
     "name": "stdout",
     "output_type": "stream",
     "text": [
      "Unexpected response format.\n"
     ]
    }
   ],
   "source": [
    "import pandas as pd\n",
    "from requests import Session, ConnectionError, Timeout, TooManyRedirects\n",
    "import json\n",
    "\n",
    "def get_community_trending_tokens():\n",
    "    api_key = 'cfc334e3-6b99-4891-8d48-aec7f23253f9'\n",
    "    cmc_url = 'https://sandbox-api.coinmarketcap.com/'\n",
    "    url_suffix = 'v1/community/trending/token'\n",
    "    url = cmc_url + url_suffix\n",
    "\n",
    "    parameters = {\n",
    "        'limit': '5',\n",
    "    }\n",
    "    headers = {\n",
    "        'Accepts': 'application/json',\n",
    "        'X-CMC_PRO_API_KEY': f'{api_key}',\n",
    "    }\n",
    "\n",
    "    session = Session()\n",
    "    session.headers.update(headers)\n",
    "\n",
    "    try:\n",
    "        response = session.get(url, params=parameters)\n",
    "        data = json.loads(response.text)\n",
    "\n",
    "        # Check if the response contains the expected data structure\n",
    "        if 'data' in data and 'list' in data['data']:\n",
    "            posts = data['data']['list']\n",
    "            # Creating a DataFrame from the 'posts' list\n",
    "            df = pd.DataFrame(posts)\n",
    "            \n",
    "            # Perform any additional cleaning or processing here if needed\n",
    "            # For example, you can drop unnecessary columns or rename them\n",
    "\n",
    "            return df\n",
    "        else:\n",
    "            print(\"Unexpected response format.\")\n",
    "            return None\n",
    "\n",
    "    except (ConnectionError, Timeout, TooManyRedirects) as e:\n",
    "        print(e)\n",
    "        return None\n",
    "\n",
    "\n"
   ]
  },
  {
   "cell_type": "code",
   "execution_count": 22,
   "metadata": {},
   "outputs": [
    {
     "name": "stdout",
     "output_type": "stream",
     "text": [
      "{'status': {'timestamp': '2023-11-28T15:49:53.430Z', 'error_code': 0, 'error_message': None, 'elapsed': 1, 'credit_count': 0, 'notice': None}, 'data': [{'id': 7486, 'name': 'r744wz8s7ht', 'symbol': '7bunqkd8amm', 'slug': '1wa9lw6ox5p', 'cmc_rank': 2985, 'rank': 2437}, {'id': 1460, 'name': 'yuhhwi8ynqe', 'symbol': 'ywipiuvc7yi', 'slug': 'oly6ccmzvok', 'cmc_rank': 8784, 'rank': 3375}, {'id': 8363, 'name': '6bcmm6c06ca', 'symbol': 'v4h10wrrn', 'slug': '22s84364698', 'cmc_rank': 8326, 'rank': 4964}, {'id': 4018, 'name': '1kbjc8nxela', 'symbol': 'bjqi55sntgp', 'slug': '2rt6cqswizw', 'cmc_rank': 9407, 'rank': 843}, {'id': 1679, 'name': 'z2gyjlrl2a', 'symbol': 'tljj4vawvio', 'slug': '58x45saev1x', 'cmc_rank': 1441, 'rank': 3819}, {'id': 9597, 'name': 'nspsc1g7yqe', 'symbol': 'dh97bbnct2e', 'slug': 'knfjdfxhnx', 'cmc_rank': 7184, 'rank': 7350}, {'id': 8689, 'name': 'civhavt99vp', 'symbol': 'i79w8l9fsqr', 'slug': 'gl4g61v6m5', 'cmc_rank': 7716, 'rank': 2161}, {'id': 6294, 'name': '9satqelwhlm', 'symbol': '8peovxyn5ph', 'slug': '3c59wpylkqu', 'cmc_rank': 7604, 'rank': 2587}, {'id': 9187, 'name': 'ywmcp9pmv6q', 'symbol': '06g4n0v829hd', 'slug': 'uko1papcngb', 'cmc_rank': 1670, 'rank': 7475}, {'id': 1086, 'name': 'agidqqnn2aj', 'symbol': 'jjn5pg0fer', 'slug': '89lg773anix', 'cmc_rank': 7748, 'rank': 2904}]}\n"
     ]
    },
    {
     "ename": "TypeError",
     "evalue": "'NoneType' object is not subscriptable",
     "output_type": "error",
     "traceback": [
      "\u001b[0;31m---------------------------------------------------------------------------\u001b[0m",
      "\u001b[0;31mTypeError\u001b[0m                                 Traceback (most recent call last)",
      "\u001b[0;32m/var/folders/hz/zwq33j5x6hlcl1rlbpnywv4m0000gn/T/ipykernel_31456/1092744724.py\u001b[0m in \u001b[0;36m<module>\u001b[0;34m\u001b[0m\n\u001b[1;32m      1\u001b[0m \u001b[0mresponse\u001b[0m \u001b[0;34m=\u001b[0m \u001b[0mget_comminuty_trending_tokens\u001b[0m\u001b[0;34m(\u001b[0m\u001b[0;34m)\u001b[0m\u001b[0;34m\u001b[0m\u001b[0;34m\u001b[0m\u001b[0m\n\u001b[0;32m----> 2\u001b[0;31m \u001b[0mresponse\u001b[0m\u001b[0;34m[\u001b[0m\u001b[0;34m'data'\u001b[0m\u001b[0;34m]\u001b[0m\u001b[0;34m\u001b[0m\u001b[0;34m\u001b[0m\u001b[0m\n\u001b[0m",
      "\u001b[0;31mTypeError\u001b[0m: 'NoneType' object is not subscriptable"
     ]
    }
   ],
   "source": []
  },
  {
   "cell_type": "code",
   "execution_count": 9,
   "metadata": {},
   "outputs": [
    {
     "name": "stdout",
     "output_type": "stream",
     "text": [
      "Symbol2     alink     ausdc       btc      busd       eth      usdc     usdt  \\\n",
      "Symbol1                                                                        \n",
      "aeth     0.599946  0.151445  0.908828  0.055728  0.999078  0.056040  0.29483   \n",
      "ausdc    0.029459       NaN       NaN       NaN       NaN       NaN      NaN   \n",
      "btc      0.614510  0.167049       NaN  0.072002       NaN  0.055439      NaN   \n",
      "busd    -0.002260  0.197402       NaN       NaN       NaN       NaN      NaN   \n",
      "eth      0.600231  0.150074  0.908249  0.048232       NaN  0.059977      NaN   \n",
      "usdc     0.107466  0.186207       NaN  0.269797       NaN       NaN      NaN   \n",
      "usdt     0.313305  0.283098  0.423773  0.171265  0.300106  0.455037      NaN   \n",
      "ustc    -0.274576       NaN       NaN       NaN       NaN       NaN      NaN   \n",
      "\n",
      "Symbol2      ustc  \n",
      "Symbol1            \n",
      "aeth    -0.730641  \n",
      "ausdc   -0.252455  \n",
      "btc     -0.612568  \n",
      "busd     0.008410  \n",
      "eth     -0.730837  \n",
      "usdc     0.000357  \n",
      "usdt    -0.188561  \n",
      "ustc          NaN  \n"
     ]
    }
   ],
   "source": [
    "x = df[\"Prices\"]\n",
    "symbol_pairs = list(itertools.combinations(df[\"Symbol\"], 2))\n",
    "correlations = []\n",
    "for pair in symbol_pairs:\n",
    "    symbol1, symbol2 = pair\n",
    "    prices1 = df[df[\"Symbol\"] == symbol1][\"Prices\"].iloc[0]\n",
    "    length1 = len(prices1)\n",
    "    prices2 = df[df[\"Symbol\"] == symbol2][\"Prices\"].iloc[0]\n",
    "    length2 = len(prices2)\n",
    "\n",
    "    correlation = pd.Series(prices1).corr(pd.Series(prices2))\n",
    "    correlations.append((symbol1, symbol2, correlation))\n",
    "\n",
    "correlation_df = pd.DataFrame(correlations, columns=[\"Symbol1\", \"Symbol2\", \"Correlation\"])\n",
    "heatmap_data = correlation_df.pivot(index=\"Symbol1\", columns=\"Symbol2\", values=\"Correlation\")\n",
    "print(heatmap_data)\n"
   ]
  },
  {
   "cell_type": "code",
   "execution_count": 8,
   "metadata": {},
   "outputs": [
    {
     "data": {
      "image/png": "[encoded data removed]",
      "text/plain": [
       "<Figure size 1000x800 with 2 Axes>"
      ]
     },
     "metadata": {},
     "output_type": "display_data"
    }
   ],
   "source": [
    "\n",
    "# Create a heatmap using seaborn\n",
    "plt.figure(figsize=(10, 8))\n",
    "sns.heatmap(heatmap_data, annot=True)\n",
    "plt.title(\"Correlation Heatmap of Price Data (Last 90 Days)\")\n",
    "plt.show()"
   ]
  },
  {
   "cell_type": "code",
   "execution_count": null,
   "metadata": {},
   "outputs": [],
   "source": [
    "import datetime as dt\n",
    "import matplotlib.pyplot as plt\n",
    "import seaborn as sns\n",
    "import yfinance as yfin"
   ]
  },
  {
   "cell_type": "code",
   "execution_count": null,
   "metadata": {},
   "outputs": [],
   "source": [
    " # user settings (modify accordingly to Yahoo Finance parameters)\n",
    "currency = \"USDT\"\n",
    "metric = \"Close\"\n",
    "\n",
    "# Date\n",
    "start = dt.datetime(2018, 1, 1)\n",
    "end = dt.datetime.now()"
   ]
  },
  {
   "cell_type": "code",
   "execution_count": null,
   "metadata": {},
   "outputs": [],
   "source": [
    "# pick your favorite list of cryptocurrencies\n",
    "crypto = [\"BTC\", \"ETH\", \"LTC\", \"XRP\", \"DASH\", \"SC\"]"
   ]
  },
  {
   "cell_type": "code",
   "execution_count": null,
   "metadata": {},
   "outputs": [
    {
     "name": "stdout",
     "output_type": "stream",
     "text": [
      "[*********************100%***********************]  1 of 1 completed\n",
      "\n",
      "1 Failed download:\n",
      "- BTC-USDT: No timezone found, symbol may be delisted\n",
      "[*********************100%***********************]  1 of 1 completed\n",
      "\n",
      "1 Failed download:\n",
      "- ETH-USDT: No timezone found, symbol may be delisted\n",
      "[*********************100%***********************]  1 of 1 completed\n",
      "\n",
      "1 Failed download:\n",
      "- LTC-USDT: No timezone found, symbol may be delisted\n",
      "[*********************100%***********************]  1 of 1 completed\n",
      "\n",
      "1 Failed download:\n",
      "- XRP-USDT: No timezone found, symbol may be delisted\n",
      "[*********************100%***********************]  1 of 1 completed\n",
      "\n",
      "1 Failed download:\n",
      "- DASH-USDT: No timezone found, symbol may be delisted\n",
      "[*********************100%***********************]  1 of 1 completed\n",
      "\n",
      "1 Failed download:\n",
      "- SC-USDT: No timezone found, symbol may be delisted\n"
     ]
    },
    {
     "data": {
      "text/html": [
       "<div>\n",
       "<style scoped>\n",
       "    .dataframe tbody tr th:only-of-type {\n",
       "        vertical-align: middle;\n",
       "    }\n",
       "\n",
       "    .dataframe tbody tr th {\n",
       "        vertical-align: top;\n",
       "    }\n",
       "\n",
       "    .dataframe thead th {\n",
       "        text-align: right;\n",
       "    }\n",
       "</style>\n",
       "<table border=\"1\" class=\"dataframe\">\n",
       "  <thead>\n",
       "    <tr style=\"text-align: right;\">\n",
       "      <th></th>\n",
       "      <th>BTC</th>\n",
       "      <th>ETH</th>\n",
       "      <th>LTC</th>\n",
       "      <th>XRP</th>\n",
       "      <th>DASH</th>\n",
       "      <th>SC</th>\n",
       "    </tr>\n",
       "    <tr>\n",
       "      <th>Date</th>\n",
       "      <th></th>\n",
       "      <th></th>\n",
       "      <th></th>\n",
       "      <th></th>\n",
       "      <th></th>\n",
       "      <th></th>\n",
       "    </tr>\n",
       "  </thead>\n",
       "  <tbody>\n",
       "  </tbody>\n",
       "</table>\n",
       "</div>"
      ],
      "text/plain": [
       "Empty DataFrame\n",
       "Columns: [BTC, ETH, LTC, XRP, DASH, SC]\n",
       "Index: []"
      ]
     },
     "execution_count": 148,
     "metadata": {},
     "output_type": "execute_result"
    }
   ],
   "source": [
    "yfin.pdr_override()\n",
    "\n",
    "colnames = []\n",
    "\n",
    "first = True\n",
    "\n",
    "for ticker in crypto:\n",
    "    data = yfin.download(f\"{ticker}-{currency}\", start, end)\n",
    "    if first:\n",
    "        combined = data[[metric]].copy()\n",
    "        colnames.append(ticker)\n",
    "        combined.columns = colnames\n",
    "        first = False\n",
    "    else:\n",
    "        combined = combined.join(data[metric])\n",
    "        colnames.append(ticker)\n",
    "        combined.columns = colnames\n",
    "\n",
    "combined"
   ]
  },
  {
   "cell_type": "code",
   "execution_count": null,
   "metadata": {},
   "outputs": [
    {
     "data": {
      "image/png": "[encoded data removed]",
      "text/plain": [
       "<Figure size 640x480 with 1 Axes>"
      ]
     },
     "metadata": {},
     "output_type": "display_data"
    },
    {
     "ename": "ValueError",
     "evalue": "attempt to get argmax of an empty sequence",
     "output_type": "error",
     "traceback": [
      "\u001b[0;31m---------------------------------------------------------------------------\u001b[0m",
      "\u001b[0;31mValueError\u001b[0m                                Traceback (most recent call last)",
      "\u001b[0;32m/var/folders/hz/zwq33j5x6hlcl1rlbpnywv4m0000gn/T/ipykernel_29632/958909266.py\u001b[0m in \u001b[0;36m<module>\u001b[0;34m\u001b[0m\n\u001b[1;32m     15\u001b[0m \u001b[0;34m\u001b[0m\u001b[0m\n\u001b[1;32m     16\u001b[0m \u001b[0;31m# Correlation Heat Map\u001b[0m\u001b[0;34m\u001b[0m\u001b[0;34m\u001b[0m\u001b[0m\n\u001b[0;32m---> 17\u001b[0;31m \u001b[0mcombined\u001b[0m \u001b[0;34m=\u001b[0m \u001b[0mcombined\u001b[0m\u001b[0;34m.\u001b[0m\u001b[0mpct_change\u001b[0m\u001b[0;34m(\u001b[0m\u001b[0;34m)\u001b[0m\u001b[0;34m.\u001b[0m\u001b[0mcorr\u001b[0m\u001b[0;34m(\u001b[0m\u001b[0mmethod\u001b[0m\u001b[0;34m=\u001b[0m\u001b[0;34m\"pearson\"\u001b[0m\u001b[0;34m)\u001b[0m\u001b[0;34m\u001b[0m\u001b[0;34m\u001b[0m\u001b[0m\n\u001b[0m\u001b[1;32m     18\u001b[0m \u001b[0;34m\u001b[0m\u001b[0m\n\u001b[1;32m     19\u001b[0m \u001b[0msns\u001b[0m\u001b[0;34m.\u001b[0m\u001b[0mheatmap\u001b[0m\u001b[0;34m(\u001b[0m\u001b[0mcombined\u001b[0m\u001b[0;34m,\u001b[0m \u001b[0mannot\u001b[0m\u001b[0;34m=\u001b[0m\u001b[0;32mTrue\u001b[0m\u001b[0;34m,\u001b[0m \u001b[0mcmap\u001b[0m\u001b[0;34m=\u001b[0m\u001b[0;34m\"coolwarm\"\u001b[0m\u001b[0;34m)\u001b[0m\u001b[0;34m\u001b[0m\u001b[0;34m\u001b[0m\u001b[0m\n",
      "\u001b[0;32m~/opt/anaconda3/lib/python3.9/site-packages/pandas/core/generic.py\u001b[0m in \u001b[0;36mpct_change\u001b[0;34m(self, periods, fill_method, limit, freq, **kwargs)\u001b[0m\n\u001b[1;32m  11696\u001b[0m             \u001b[0;32mfor\u001b[0m \u001b[0m_\u001b[0m\u001b[0;34m,\u001b[0m \u001b[0mcol\u001b[0m \u001b[0;32min\u001b[0m \u001b[0mcols\u001b[0m\u001b[0;34m:\u001b[0m\u001b[0;34m\u001b[0m\u001b[0;34m\u001b[0m\u001b[0m\n\u001b[1;32m  11697\u001b[0m                 \u001b[0mmask\u001b[0m \u001b[0;34m=\u001b[0m \u001b[0mcol\u001b[0m\u001b[0;34m.\u001b[0m\u001b[0misna\u001b[0m\u001b[0;34m(\u001b[0m\u001b[0;34m)\u001b[0m\u001b[0;34m.\u001b[0m\u001b[0mvalues\u001b[0m\u001b[0;34m\u001b[0m\u001b[0;34m\u001b[0m\u001b[0m\n\u001b[0;32m> 11698\u001b[0;31m                 \u001b[0mmask\u001b[0m \u001b[0;34m=\u001b[0m \u001b[0mmask\u001b[0m\u001b[0;34m[\u001b[0m\u001b[0mnp\u001b[0m\u001b[0;34m.\u001b[0m\u001b[0margmax\u001b[0m\u001b[0;34m(\u001b[0m\u001b[0;34m~\u001b[0m\u001b[0mmask\u001b[0m\u001b[0;34m)\u001b[0m \u001b[0;34m:\u001b[0m\u001b[0;34m]\u001b[0m\u001b[0;34m\u001b[0m\u001b[0;34m\u001b[0m\u001b[0m\n\u001b[0m\u001b[1;32m  11699\u001b[0m                 \u001b[0;32mif\u001b[0m \u001b[0mmask\u001b[0m\u001b[0;34m.\u001b[0m\u001b[0many\u001b[0m\u001b[0;34m(\u001b[0m\u001b[0;34m)\u001b[0m\u001b[0;34m:\u001b[0m\u001b[0;34m\u001b[0m\u001b[0;34m\u001b[0m\u001b[0m\n\u001b[1;32m  11700\u001b[0m                     warnings.warn(\n",
      "\u001b[0;32m~/opt/anaconda3/lib/python3.9/site-packages/numpy/core/fromnumeric.py\u001b[0m in \u001b[0;36margmax\u001b[0;34m(a, axis, out, keepdims)\u001b[0m\n\u001b[1;32m   1227\u001b[0m     \"\"\"\n\u001b[1;32m   1228\u001b[0m     \u001b[0mkwds\u001b[0m \u001b[0;34m=\u001b[0m \u001b[0;34m{\u001b[0m\u001b[0;34m'keepdims'\u001b[0m\u001b[0;34m:\u001b[0m \u001b[0mkeepdims\u001b[0m\u001b[0;34m}\u001b[0m \u001b[0;32mif\u001b[0m \u001b[0mkeepdims\u001b[0m \u001b[0;32mis\u001b[0m \u001b[0;32mnot\u001b[0m \u001b[0mnp\u001b[0m\u001b[0;34m.\u001b[0m\u001b[0m_NoValue\u001b[0m \u001b[0;32melse\u001b[0m \u001b[0;34m{\u001b[0m\u001b[0;34m}\u001b[0m\u001b[0;34m\u001b[0m\u001b[0;34m\u001b[0m\u001b[0m\n\u001b[0;32m-> 1229\u001b[0;31m     \u001b[0;32mreturn\u001b[0m \u001b[0m_wrapfunc\u001b[0m\u001b[0;34m(\u001b[0m\u001b[0ma\u001b[0m\u001b[0;34m,\u001b[0m \u001b[0;34m'argmax'\u001b[0m\u001b[0;34m,\u001b[0m \u001b[0maxis\u001b[0m\u001b[0;34m=\u001b[0m\u001b[0maxis\u001b[0m\u001b[0;34m,\u001b[0m \u001b[0mout\u001b[0m\u001b[0;34m=\u001b[0m\u001b[0mout\u001b[0m\u001b[0;34m,\u001b[0m \u001b[0;34m**\u001b[0m\u001b[0mkwds\u001b[0m\u001b[0;34m)\u001b[0m\u001b[0;34m\u001b[0m\u001b[0;34m\u001b[0m\u001b[0m\n\u001b[0m\u001b[1;32m   1230\u001b[0m \u001b[0;34m\u001b[0m\u001b[0m\n\u001b[1;32m   1231\u001b[0m \u001b[0;34m\u001b[0m\u001b[0m\n",
      "\u001b[0;32m~/opt/anaconda3/lib/python3.9/site-packages/numpy/core/fromnumeric.py\u001b[0m in \u001b[0;36m_wrapfunc\u001b[0;34m(obj, method, *args, **kwds)\u001b[0m\n\u001b[1;32m     57\u001b[0m \u001b[0;34m\u001b[0m\u001b[0m\n\u001b[1;32m     58\u001b[0m     \u001b[0;32mtry\u001b[0m\u001b[0;34m:\u001b[0m\u001b[0;34m\u001b[0m\u001b[0;34m\u001b[0m\u001b[0m\n\u001b[0;32m---> 59\u001b[0;31m         \u001b[0;32mreturn\u001b[0m \u001b[0mbound\u001b[0m\u001b[0;34m(\u001b[0m\u001b[0;34m*\u001b[0m\u001b[0margs\u001b[0m\u001b[0;34m,\u001b[0m \u001b[0;34m**\u001b[0m\u001b[0mkwds\u001b[0m\u001b[0;34m)\u001b[0m\u001b[0;34m\u001b[0m\u001b[0;34m\u001b[0m\u001b[0m\n\u001b[0m\u001b[1;32m     60\u001b[0m     \u001b[0;32mexcept\u001b[0m \u001b[0mTypeError\u001b[0m\u001b[0;34m:\u001b[0m\u001b[0;34m\u001b[0m\u001b[0;34m\u001b[0m\u001b[0m\n\u001b[1;32m     61\u001b[0m         \u001b[0;31m# A TypeError occurs if the object does have such a method in its\u001b[0m\u001b[0;34m\u001b[0m\u001b[0;34m\u001b[0m\u001b[0m\n",
      "\u001b[0;31mValueError\u001b[0m: attempt to get argmax of an empty sequence"
     ]
    }
   ],
   "source": [
    "plt.yscale(\"log\")  # first show linear\n",
    "for ticker in crypto:\n",
    "    plt.plot(combined[ticker], label=ticker)\n",
    "\n",
    "plt.tick_params(axis=\"x\", width=2)\n",
    "plt.xticks(\n",
    "    rotation=\"vertical\",\n",
    ")\n",
    "plt.margins(0.01)\n",
    "plt.subplots_adjust(bottom=0.15)\n",
    "plt.legend(\n",
    "    loc=\"lower center\", bbox_to_anchor=(0.5, 1.05), ncol=6, fancybox=True, shadow=False\n",
    ")\n",
    "plt.show()\n",
    "\n",
    "# Correlation Heat Map\n",
    "combined = combined.pct_change().corr(method=\"pearson\")\n",
    "\n",
    "sns.heatmap(combined, annot=True, cmap=\"coolwarm\")\n",
    "plt.show()\n",
    "print(combined)"
   ]
  },
  {
   "cell_type": "code",
   "execution_count": null,
   "metadata": {},
   "outputs": [],
   "source": []
  }
 ],
 "metadata": {
  "kernelspec": {
   "display_name": "base",
   "language": "python",
   "name": "python3"
  },
  "language_info": {
   "codemirror_mode": {
    "name": "ipython",
    "version": 3
   },
   "file_extension": ".py",
   "mimetype": "text/x-python",
   "name": "python",
   "nbconvert_exporter": "python",
   "pygments_lexer": "ipython3",
   "version": "3.9.13"
  }
 },
 "nbformat": 4,
 "nbformat_minor": 2
}
